{
 "cells": [
  {
   "cell_type": "code",
   "execution_count": 11,
   "metadata": {},
   "outputs": [
    {
     "data": {
      "text/html": [
       "\n",
       "        <iframe\n",
       "            width=\"100%\"\n",
       "            height=\"650\"\n",
       "            src=\"http://127.0.0.1:8050/\"\n",
       "            frameborder=\"0\"\n",
       "            allowfullscreen\n",
       "            \n",
       "        ></iframe>\n",
       "        "
      ],
      "text/plain": [
       "<IPython.lib.display.IFrame at 0x111d23520>"
      ]
     },
     "metadata": {},
     "output_type": "display_data"
    }
   ],
   "source": [
    "import dash\n",
    "import dash_core_components as dcc\n",
    "import dash_html_components as html\n",
    "import folium\n",
    "import pandas as pd\n",
    "import geopandas as gpd\n",
    "from dash.dependencies import Input, Output\n",
    "import io\n",
    "import base64\n",
    "\n",
    "# Load data\n",
    "df = pd.read_csv('co2_emission.csv')\n",
    "df = df.rename(columns={'Annual CO₂ emissions (tonnes )': 'CO2_emission'})\n",
    "world_geojson = gpd.read_file('countries.geo.json')\n",
    "\n",
    "# Function to update map based on selected year\n",
    "def update_map(year):\n",
    "    year_data = df[df['Year'] == year]\n",
    "    merged_data = world_geojson.merge(year_data, left_on='name', right_on='Entity', how='left')\n",
    "    \n",
    "    # Create the map\n",
    "    m = folium.Map(location=[20, 0], zoom_start=2)\n",
    "    \n",
    "    folium.Choropleth(\n",
    "        geo_data=world_geojson,\n",
    "        name='CO2 Emissions',\n",
    "        data=merged_data,\n",
    "        columns=['name', 'CO2_emission'],\n",
    "        key_on='feature.properties.name',\n",
    "        fill_color='YlGnBu',\n",
    "        fill_opacity=0.7,\n",
    "        line_opacity=0.2,\n",
    "        legend_name='CO₂ Emissions (tonnes)',\n",
    "    ).add_to(m)\n",
    "    \n",
    "    # Save map to a BytesIO buffer\n",
    "    map_io = io.BytesIO()\n",
    "    m.save(map_io, close_file=False)\n",
    "    map_io.seek(0)\n",
    "    \n",
    "    # Encode the map as base64\n",
    "    map_base64 = base64.b64encode(map_io.read()).decode('utf-8')\n",
    "    \n",
    "    # Return the base64 string to embed in an iframe\n",
    "    return f\"data:text/html;base64,{map_base64}\"\n",
    "\n",
    "# Create Dash app\n",
    "app = dash.Dash(__name__)\n",
    "\n",
    "# Layout of the web page\n",
    "app.layout = html.Div([\n",
    "    html.H1('CO₂ Emission Map'),\n",
    "    dcc.Slider(\n",
    "        id='year-slider',\n",
    "        min=df['Year'].min(),\n",
    "        max=df['Year'].max(),\n",
    "        value=2015,\n",
    "        step=1,\n",
    "    ),\n",
    "    html.Div(id='map-container')\n",
    "])\n",
    "\n",
    "# Update the map when slider changes\n",
    "@app.callback(\n",
    "    Output('map-container', 'children'),\n",
    "    [Input('year-slider', 'value')]\n",
    ")\n",
    "def update_map_callback(year):\n",
    "    map_html = update_map(year)\n",
    "    return html.Iframe(src=map_html, width='100%', height='600')\n",
    "\n",
    "# Run the app\n",
    "if __name__ == '__main__':\n",
    "    app.run_server(debug=True)\n"
   ]
  },
  {
   "cell_type": "code",
   "execution_count": null,
   "metadata": {},
   "outputs": [],
   "source": []
  },
  {
   "cell_type": "code",
   "execution_count": null,
   "metadata": {},
   "outputs": [],
   "source": []
  }
 ],
 "metadata": {
  "kernelspec": {
   "display_name": "Python 3",
   "language": "python",
   "name": "python3"
  },
  "language_info": {
   "codemirror_mode": {
    "name": "ipython",
    "version": 3
   },
   "file_extension": ".py",
   "mimetype": "text/x-python",
   "name": "python",
   "nbconvert_exporter": "python",
   "pygments_lexer": "ipython3",
   "version": "3.9.6"
  }
 },
 "nbformat": 4,
 "nbformat_minor": 2
}
