{
 "cells": [
  {
   "cell_type": "code",
   "execution_count": 7,
   "metadata": {},
   "outputs": [
    {
     "data": {
      "application/vnd.jupyter.widget-view+json": {
       "model_id": "94ec3afa037b45438742a796c7346d6d",
       "version_major": 2,
       "version_minor": 0
      },
      "text/plain": [
       "interactive(children=(IntSlider(value=2015, continuous_update=False, description='Year:', max=2020, min=1980),…"
      ]
     },
     "execution_count": 7,
     "metadata": {},
     "output_type": "execute_result"
    }
   ],
   "source": [
    "import folium\n",
    "import geopandas as gpd\n",
    "import ipywidgets as widgets\n",
    "from ipywidgets import interactive\n",
    "import pandas as pd\n",
    "\n",
    "df = pd.read_csv('co2_emission.csv')\n",
    "df = df.rename(columns={'Annual CO₂ emissions (tonnes )': 'CO2_emission'}) # rename columns for better readibility\n",
    "\n",
    "\n",
    "world_geojson = gpd.read_file('countries.geo.json')\n",
    "\n",
    "# Function to update the map based on selected year\n",
    "def update_map(year):\n",
    "    # Filter the data for the selected year\n",
    "    year_data = df[df['Year'] == year]\n",
    "    \n",
    "    # Merge the emissions data with the GeoJSON file based on the country names\n",
    "    merged_data = world_geojson.merge(year_data, left_on='name', right_on='Entity', how='left')\n",
    "    \n",
    "    # Create the map\n",
    "    m = folium.Map(location=[20, 0], zoom_start=2)\n",
    "    \n",
    "    # Add the choropleth layer with the emissions data\n",
    "    folium.Choropleth(\n",
    "        geo_data=world_geojson,\n",
    "        name='CO2 Emissions',\n",
    "        data=merged_data,\n",
    "        columns=['name', 'CO2_emission'],\n",
    "        key_on='feature.properties.name',\n",
    "        fill_color='YlGnBu',\n",
    "        fill_opacity=0.7,\n",
    "        line_opacity=0.2,\n",
    "        legend_name='CO₂ Emissions (tonnes)',\n",
    "    ).add_to(m)\n",
    "    m.save('co2_emission_map.html')\n",
    "    return m\n",
    "\n",
    "year_slider = widgets.IntSlider(\n",
    "    value=2015,\n",
    "    min=1980,\n",
    "    max=2020,\n",
    "    step=1,\n",
    "    description='Year:',\n",
    "    continuous_update=False\n",
    ")\n",
    "\n",
    "# Make the widget interactive\n",
    "interactive_map = interactive(update_map, year=year_slider)\n",
    "\n"
   ]
  },
  {
   "cell_type": "code",
   "execution_count": null,
   "metadata": {},
   "outputs": [],
   "source": []
  },
  {
   "cell_type": "code",
   "execution_count": null,
   "metadata": {},
   "outputs": [],
   "source": []
  }
 ],
 "metadata": {
  "kernelspec": {
   "display_name": "Python 3",
   "language": "python",
   "name": "python3"
  },
  "language_info": {
   "codemirror_mode": {
    "name": "ipython",
    "version": 3
   },
   "file_extension": ".py",
   "mimetype": "text/x-python",
   "name": "python",
   "nbconvert_exporter": "python",
   "pygments_lexer": "ipython3",
   "version": "3.9.6"
  }
 },
 "nbformat": 4,
 "nbformat_minor": 2
}
